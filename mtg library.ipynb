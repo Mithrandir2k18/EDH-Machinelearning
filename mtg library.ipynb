{
 "cells": [
  {
   "cell_type": "code",
   "execution_count": 1,
   "metadata": {},
   "outputs": [],
   "source": [
    "import json\n",
    "import glob\n",
    "import os\n",
    "import numpy as np\n",
    "import sys\n",
    "from scipy.sparse import csr_matrix"
   ]
  },
  {
   "cell_type": "code",
   "execution_count": 2,
   "metadata": {
    "scrolled": true
   },
   "outputs": [],
   "source": [
    "def cardlist():\n",
    "    #needs JSON\n",
    "    with open('AtomicCards.json', encoding=\"utf8\") as json_file:\n",
    "        data = json.load(json_file)\n",
    "    #make a list of all cardnames\n",
    "    a = []\n",
    "    for p in data[\"data\"]: \n",
    "       a.append(p)\n",
    "    return(a)  \n",
    "  \n",
    "        "
   ]
  },
  {
   "cell_type": "code",
   "execution_count": 20,
   "metadata": {},
   "outputs": [],
   "source": [
    "def cardlist_sub():\n",
    "    #makes a dictionary of alternate cardnames names that show up\n",
    "    d={}\n",
    "    for name in cardlist():\n",
    "        if \"//\" in name:\n",
    "            #accounts for formats where only the front face is given\n",
    "            short=name[:name.find(\"//\")-1]\n",
    "            d[short] = name\n",
    "            #accounts for formats where one slash is used\n",
    "            one_slash=name[:name.find(\"//\")]+name[name.find(\"//\")+1:]\n",
    "            d[one_slash] = name\n",
    "    #accounts for random hiccups in Decklist import       \n",
    "    d[\"Lim-Dul's Vault\"] = \"Lim-Dûl's Vault\"\n",
    "    d[\"Sire Of Insanity\"] = \"Sire of Insanity\"\n",
    "    return d"
   ]
  },
  {
   "cell_type": "code",
   "execution_count": 21,
   "metadata": {},
   "outputs": [],
   "source": [
    "def decklist_to_dict(s=\"./decklists/Gargos Chomp-1.txt\"):\n",
    "    d = {}\n",
    "    with open(s) as f:\n",
    "        for line in f:\n",
    "            if not line.isspace():\n",
    "                (val, key) = line.strip().split(maxsplit=1)\n",
    "                d[key] = int(val)\n",
    "    return(d)"
   ]
  },
  {
   "cell_type": "code",
   "execution_count": 22,
   "metadata": {},
   "outputs": [],
   "source": [
    "def make_number_list(d, filename):\n",
    "    dl= d\n",
    "    cl= cardlist()\n",
    "    cl_sub= cardlist_sub()\n",
    "    sum=0\n",
    "\n",
    "    a=np.zeros(shape=(len(cardlist())),dtype=np.int8)\n",
    "    \n",
    "    for i in dl:\n",
    "        if i in cl:\n",
    "            a[cl.index(i)]=dl[i]\n",
    "            sum=sum+dl[i]\n",
    "        elif i in cl_sub:\n",
    "            a[cl.index(cl_sub[i])]=dl[i]\n",
    "            sum=sum+dl[i]\n",
    "        else:    \n",
    "            print(\"Cardname '\" + i + \"' in Decklist: '\"+filename+\"' unknown\")       \n",
    "#check if list is complete\n",
    "    \n",
    "    if not sum==100:\n",
    "        print(\"Decksize of \" + filename + \" is \" + str(sum))\n",
    "    \n",
    "    return a"
   ]
  },
  {
   "cell_type": "code",
   "execution_count": 23,
   "metadata": {},
   "outputs": [],
   "source": [
    "def count_decklists(s=\"./decklists\"):\n",
    "   #needs glob and os\n",
    "    path = s\n",
    "    i=0\n",
    "    for filename in glob.glob(os.path.join(path, '*.txt')):\n",
    "        i=i+1\n",
    "    return i"
   ]
  },
  {
   "cell_type": "code",
   "execution_count": 24,
   "metadata": {},
   "outputs": [],
   "source": [
    "def decklists_to_array(s=\"./decklists\"):\n",
    "    #needs glob, os and np\n",
    "    path = s\n",
    "    boards=[\"SIDEBOARD:\",\"Sideboard:\",\"Sideboard\",\"MAYBEBOARD\",\"Maybeboard:\",\"Maybeboard\", \"Bench\", \"In\",\"// Outside the Game\", \"To Add\", \"Dream-lands\", \"Cuts\", \"Cards to Be Bought\"]\n",
    "    #define array with size appropriate to data\n",
    "    big = np.zeros(shape=(count_decklists(s),len(cardlist())+1),dtype=np.int8)\n",
    "    i=-1\n",
    "    for filename in glob.glob(os.path.join(path, '*.txt')):\n",
    "        #make dictionary\n",
    "        with open(os.path.join(os.getcwd(), filename), 'r', encoding=\"utf8\") as f: # open in readonly mode\n",
    "            d = {}\n",
    "            for line in f:\n",
    "                try:\n",
    "                    #check for empty lines\n",
    "                    if not line.isspace():\n",
    "                        #check for sideboard\n",
    "                        if line.strip() in boards: \n",
    "                            break\n",
    "                        else:\n",
    "                            (val, key) = line.strip().split(maxsplit=1)\n",
    "                            if not key in d:\n",
    "                                d[key] = int(val)\n",
    "                            else:\n",
    "                                d[key] = d[key]+int(val)\n",
    "                except:\n",
    "                    print(line+\" in \"+filename+\" is not the right format\")\n",
    "        #set the appropriate line in array to the number list. Last spot stays reserved for Decktype            \n",
    "        i=i+1\n",
    "        big[i][:-1]=make_number_list(d, filename)\n",
    "    return(big)"
   ]
  },
  {
   "cell_type": "code",
   "execution_count": 25,
   "metadata": {},
   "outputs": [],
   "source": [
    "def make_matrix(path,pls):\n",
    "    #needs powerlevel dictionary with values\n",
    "    le=len(cardlist())\n",
    "    matrix=np.zeros((0,le+1),\"int8\")\n",
    "    total_files=0\n",
    "    for foldername in glob.iglob(os.path.join(path, '*')):\n",
    "         for pl in pls:\n",
    "            if pl in foldername:\n",
    "                total_files=total_files+count_decklists(foldername)\n",
    "    matrix=np.zeros((total_files,len(cardlist())+1),\"int8\")          \n",
    "    old=0\n",
    "    for i,foldername in enumerate(glob.iglob(os.path.join(path, '*'))):\n",
    "         for pl in pls:\n",
    "            if pl in foldername:\n",
    "                new = old + count_decklists(foldername)\n",
    "                matrix[old:new]=decklists_to_array(foldername) \n",
    "                matrix[old:new,le:]= pls[pl]\n",
    "                old = new\n",
    "    return matrix"
   ]
  },
  {
   "cell_type": "code",
   "execution_count": 47,
   "metadata": {},
   "outputs": [],
   "source": [
    "def merge_matrix(a,b):\n",
    "    if not a.shape[1]==b.shape[1]:\n",
    "        raise NameError(\"Matrices not compatible, \"+str(a.shape[1])+\"not equal\"+str(b.shape[1]))\n",
    "    c=np.zeros((a.shape[0]+b.shape[0],a.shape[1]),\"int8\")\n",
    "    c[:a.shape[0]]=a\n",
    "    c[a.shape[0]:]=b\n",
    "    return c"
   ]
  },
  {
   "cell_type": "code",
   "execution_count": 26,
   "metadata": {},
   "outputs": [],
   "source": [
    "p={\"BC\":1,\"MID\":2,\"HIGH\":3,\"COMP\":4}\n",
    "p_mod={\"BC\":1,\"HIGH\":3,\"COMP\":4}"
   ]
  },
  {
   "cell_type": "code",
   "execution_count": 29,
   "metadata": {},
   "outputs": [
    {
     "name": "stdout",
     "output_type": "stream",
     "text": [
      "Decksize of ./decklists\\COMP\\16-11-17-troll-deck.txt is 99\n",
      "Decksize of ./decklists\\COMP\\scions-breakfast-dragon-loops-cedh.txt is 103\n",
      "Wall time: 8min 35s\n"
     ]
    }
   ],
   "source": [
    "%%time\n",
    "m=make_matrix(\"./decklists/\",p_mod)\n"
   ]
  },
  {
   "cell_type": "code",
   "execution_count": 30,
   "metadata": {},
   "outputs": [
    {
     "name": "stdout",
     "output_type": "stream",
     "text": [
      "(84, 21455)\n",
      "8402\n"
     ]
    }
   ],
   "source": [
    "\n",
    "print(m.shape)\n",
    "print(np.sum(m[:,:-1]))"
   ]
  },
  {
   "cell_type": "code",
   "execution_count": 35,
   "metadata": {},
   "outputs": [],
   "source": [
    "np.save(\"matrix2.npy\",m)"
   ]
  },
  {
   "cell_type": "code",
   "execution_count": 48,
   "metadata": {},
   "outputs": [
    {
     "data": {
      "text/plain": [
       "(412, 21455)"
      ]
     },
     "execution_count": 48,
     "metadata": {},
     "output_type": "execute_result"
    }
   ],
   "source": [
    "a=np.load(\"matrix.npy\")\n",
    "b=np.load(\"matrix2.npy\")\n",
    "c=merge_matrix(a,b)\n",
    "c.shape"
   ]
  },
  {
   "cell_type": "code",
   "execution_count": 49,
   "metadata": {},
   "outputs": [],
   "source": [
    "np.save(\"matrixc.npy\",c)"
   ]
  },
  {
   "cell_type": "code",
   "execution_count": 51,
   "metadata": {},
   "outputs": [
    {
     "name": "stdout",
     "output_type": "stream",
     "text": [
      "abc / cde\n"
     ]
    }
   ],
   "source": [
    "name=\"abc // cde\"\n",
    "print(name[:name.find(\"//\")]+name[name.find(\"//\")+1:])\n"
   ]
  },
  {
   "cell_type": "code",
   "execution_count": 27,
   "metadata": {},
   "outputs": [],
   "source": []
  },
  {
   "cell_type": "code",
   "execution_count": null,
   "metadata": {},
   "outputs": [],
   "source": []
  }
 ],
 "metadata": {
  "kernelspec": {
   "display_name": "Python 3",
   "language": "python",
   "name": "python3"
  },
  "language_info": {
   "codemirror_mode": {
    "name": "ipython",
    "version": 3
   },
   "file_extension": ".py",
   "mimetype": "text/x-python",
   "name": "python",
   "nbconvert_exporter": "python",
   "pygments_lexer": "ipython3",
   "version": "3.9.0"
  }
 },
 "nbformat": 4,
 "nbformat_minor": 4
}
